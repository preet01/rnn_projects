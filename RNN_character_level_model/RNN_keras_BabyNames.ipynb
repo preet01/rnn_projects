{
 "cells": [
  {
   "cell_type": "code",
   "execution_count": 1,
   "metadata": {
    "collapsed": true
   },
   "outputs": [],
   "source": [
    "import numpy as np\n",
    "from utils import *\n",
    "import random"
   ]
  },
  {
   "cell_type": "code",
   "execution_count": 2,
   "metadata": {},
   "outputs": [
    {
     "name": "stdout",
     "output_type": "stream",
     "text": [
      "There are 20183 total characters and 27 unique characters in your data.\n"
     ]
    }
   ],
   "source": [
    "data = open('male.txt', 'r').read()\n",
    "data= data.lower()\n",
    "chars = list(set(data))\n",
    "data_size, vocab_size = len(data), len(chars)\n",
    "print('There are %d total characters and %d unique characters in your data.' % (data_size, vocab_size))"
   ]
  },
  {
   "cell_type": "code",
   "execution_count": 3,
   "metadata": {},
   "outputs": [
    {
     "name": "stdout",
     "output_type": "stream",
     "text": [
      "{0: '\\n', 1: 'a', 2: 'b', 3: 'c', 4: 'd', 5: 'e', 6: 'f', 7: 'g', 8: 'h', 9: 'i', 10: 'j', 11: 'k', 12: 'l', 13: 'm', 14: 'n', 15: 'o', 16: 'p', 17: 'q', 18: 'r', 19: 's', 20: 't', 21: 'u', 22: 'v', 23: 'w', 24: 'x', 25: 'y', 26: 'z'}\n"
     ]
    }
   ],
   "source": [
    "char_to_ix = { ch:i for i,ch in enumerate(sorted(chars)) }#character to index \n",
    "ix_to_char = { i:ch for i,ch in enumerate(sorted(chars)) }#index to character\n",
    "print(ix_to_char)"
   ]
  },
  {
   "cell_type": "code",
   "execution_count": 4,
   "metadata": {
    "collapsed": true
   },
   "outputs": [],
   "source": [
    "def clip(gradients, maxValue):#gradient clipping in order to remove exploding gradient problem\n",
    "\n",
    "    dWaa, dWax, dWya, db, dby = gradients['dWaa'], gradients['dWax'], gradients['dWya'], gradients['db'], gradients['dby']\n",
    "   \n",
    "    for gradient in [dWax, dWaa, dWya, db, dby]:\n",
    "        np.clip(gradient,-maxValue,maxValue,out=gradient)\n",
    "    \n",
    "    gradients = {\"dWaa\": dWaa, \"dWax\": dWax, \"dWya\": dWya, \"db\": db, \"dby\": dby}\n",
    "    \n",
    "    return gradients"
   ]
  },
  {
   "cell_type": "code",
   "execution_count": 5,
   "metadata": {
    "collapsed": true
   },
   "outputs": [],
   "source": [
    "def optimize(X, Y, a_prev, parameters, learning_rate = 0.01):\n",
    "    \n",
    "    loss, cache = rnn_forward(X, Y, a_prev, parameters)\n",
    "    \n",
    "    gradients, a = rnn_backward(X, Y, parameters, cache)\n",
    "    \n",
    "    gradients = clip(gradients, 5)\n",
    "    \n",
    "    parameters = update_parameters(parameters, gradients, learning_rate)\n",
    "        \n",
    "    return loss, gradients, a[len(X)-1]"
   ]
  },
  {
   "cell_type": "code",
   "execution_count": 6,
   "metadata": {
    "collapsed": true
   },
   "outputs": [],
   "source": [
    "def sample(parameters, char_to_ix):#sampling the RNN\n",
    "  \n",
    "    Waa, Wax, Wya, by, b = parameters['Waa'], parameters['Wax'], parameters['Wya'], parameters['by'], parameters['b']\n",
    "    vocab_size = by.shape[0]\n",
    "    n_a = Waa.shape[1]\n",
    "    \n",
    "    x = np.zeros((vocab_size, 1))\n",
    "    a_prev = np.zeros((n_a, 1))\n",
    "    \n",
    "    indices = []\n",
    "    \n",
    "    idx = -1 \n",
    "    \n",
    "    counter = 0\n",
    "    newline_character = char_to_ix['\\n']\n",
    "    \n",
    "    while (idx != newline_character and counter != 10):\n",
    "        a = np.tanh(np.dot(Wax,x)+np.dot(Waa,a_prev)+b)\n",
    "        z = np.dot(Wya,a)+by\n",
    "        y = softmax(z)\n",
    "        \n",
    "        idx = np.random.choice(list(range(vocab_size)), p = y.ravel())\n",
    "      \n",
    "        indices.append(idx)\n",
    "        \n",
    "        x = np.zeros((vocab_size,1))\n",
    "        x[idx] = 1\n",
    "        \n",
    "        counter +=1\n",
    "        \n",
    "   \n",
    "    if (counter == 10):\n",
    "        indices.append(char_to_ix['\\n'])\n",
    "    \n",
    "    return indices"
   ]
  },
  {
   "cell_type": "code",
   "execution_count": 9,
   "metadata": {
    "collapsed": true
   },
   "outputs": [],
   "source": [
    "def model(data, ix_to_char, char_to_ix, num_iterations = 28000, n_a = 50, dino_names = 7, vocab_size = 27):\n",
    "\n",
    "    n_x, n_y = vocab_size, vocab_size\n",
    "    \n",
    "    parameters = initialize_parameters(n_a, n_x, n_y)#n_a is the number of rnn cells.\n",
    "    \n",
    "    loss = get_initial_loss(vocab_size, dino_names)\n",
    "\n",
    "    with open(\"male.txt\") as f:\n",
    "        examples = f.readlines()\n",
    "    examples = [x.lower().strip() for x in examples]\n",
    "    \n",
    "    np.random.seed(0)\n",
    "    np.random.shuffle(examples)\n",
    "    \n",
    "    a_prev = np.zeros((n_a, 1))\n",
    "    \n",
    "    for j in range(num_iterations):\n",
    "        \n",
    "        \n",
    "        index = j % len(examples)\n",
    "        X = [None] + [char_to_ix[ch] for ch in examples[index]] #might have to change this\n",
    "        Y = X[1:] + [char_to_ix[\"\\n\"]]\n",
    "        \n",
    "        curr_loss, gradients, a_prev =optimize(X, Y, a_prev, parameters, learning_rate = 0.01)\n",
    "        \n",
    "        loss = smooth(loss, curr_loss)\n",
    "\n",
    "        if j % 2000 == 0:#after every 2000 iterations 7 names will be displayed\n",
    "            \n",
    "            print('Iteration: %d, Loss: %f' % (j, loss) + '\\n')\n",
    "            \n",
    "            seed = 0\n",
    "            for name in range(dino_names):\n",
    "                \n",
    "                sampled_indices = sample(parameters, char_to_ix)\n",
    "                print_sample(sampled_indices, ix_to_char)\n",
    "                #print(sampled_indices,ix_to_char)  #print(sampled_indices,ix_to_char)\n",
    "                #break\n",
    "                \n",
    "       \n",
    "            print('\\n')\n",
    "        \n",
    "    return parameters"
   ]
  },
  {
   "cell_type": "code",
   "execution_count": 10,
   "metadata": {
    "scrolled": true
   },
   "outputs": [
    {
     "name": "stdout",
     "output_type": "stream",
     "text": [
      "Iteration: 0, Loss: 23.077450\n",
      "\n",
      "Iz\n",
      "Psgzwx\n",
      "Ogvqncnqyo\n",
      "Zyqmlx\n",
      "Cbtiqpjnqy\n",
      "Opaynuakfg\n",
      "Upk\n",
      "\n",
      "\n",
      "Iteration: 2000, Loss: 20.316575\n",
      "\n",
      "Xxb\n",
      "Jwtigethai\n",
      "D\n",
      "Iuo\n",
      "\n",
      "Derxfozpm\n",
      "\n",
      "Etasmemiri\n",
      "\n",
      "\n",
      "Iteration: 4000, Loss: 18.579600\n",
      "\n",
      "Arexeiinta\n",
      "Erherunnpi\n",
      "Eriuaun\n",
      "Eriy\n",
      "Eriornebit\n",
      "Hshisiby\n",
      "Phegocyril\n",
      "\n",
      "\n",
      "Iteration: 6000, Loss: 17.822740\n",
      "\n",
      "Ersdgbefya\n",
      "Rantahinru\n",
      "Bbe\n",
      "Alelreuxie\n",
      "Erdeonzbel\n",
      "Hantemurir\n",
      "Becedemuil\n",
      "\n",
      "\n",
      "Iteration: 8000, Loss: 17.192456\n",
      "\n",
      "Stoleideri\n",
      "Us\n",
      "Mivanachor\n",
      "An\n",
      "Eiemawdtar\n",
      "An\n",
      "Subushrena\n",
      "\n",
      "\n",
      "Iteration: 10000, Loss: 16.842536\n",
      "\n",
      "Oberofroor\n",
      "Areserisec\n",
      "Rhe\n",
      "Woramylanv\n",
      "Larederaph\n",
      "Rimisheras\n",
      "Glerolisdo\n",
      "\n",
      "\n",
      "Iteration: 12000, Loss: 16.444694\n",
      "\n",
      "Nuhamarora\n",
      "Tunilaleis\n",
      "Thavanajhe\n",
      "Moyonodona\n",
      "Warshareyr\n",
      "Sgoyen\n",
      "Rramecanan\n",
      "\n",
      "\n",
      "Iteration: 14000, Loss: 16.183750\n",
      "\n",
      "Huudranall\n",
      "Horunolele\n",
      "Anatamaior\n",
      "Bioraroshe\n",
      "Wileshamon\n",
      "Anyontonin\n",
      "Sareronala\n",
      "\n",
      "\n",
      "Iteration: 16000, Loss: 16.250103\n",
      "\n",
      "Oviligigol\n",
      "Wicazalbur\n",
      "Inerekikon\n",
      "Iriustumin\n",
      "Nujeusciom\n",
      "Gillanerod\n",
      "Biniviclin\n",
      "\n",
      "\n",
      "Iteration: 18000, Loss: 16.054816\n",
      "\n",
      "Judaganien\n",
      "Gerinanoge\n",
      "Lboctigami\n",
      "Alonagseiz\n",
      "Cenevadaum\n",
      "Bimanelife\n",
      "Taleleredi\n",
      "\n",
      "\n",
      "Iteration: 20000, Loss: 15.828008\n",
      "\n",
      "Alolimanod\n",
      "Pisaliarom\n",
      "Ge\n",
      "Byolvelbry\n",
      "Eredenarie\n",
      "Lleritolan\n",
      "Bauzcgamon\n",
      "\n",
      "\n",
      "Iteration: 22000, Loss: 15.904249\n",
      "\n",
      "Seruinely\n",
      "\n",
      "Amerymunig\n",
      "Alifrolere\n",
      "Ceradilieu\n",
      "Qaryrodify\n",
      "Opileveber\n",
      "Mudulemali\n",
      "\n",
      "\n",
      "Iteration: 24000, Loss: 15.849464\n",
      "\n",
      "Adasogovot\n",
      "Anerefimy\n",
      "\n",
      "Dririnelon\n",
      "Bovelary\n",
      "Habishodet\n",
      "Inadatesho\n",
      "Elaleriura\n",
      "\n",
      "\n",
      "Iteration: 26000, Loss: 15.695872\n",
      "\n",
      "Folimarich\n",
      "Colurerker\n",
      "Pmoiralich\n",
      "Chdanydeve\n",
      "Mitradoshe\n",
      "Alaolaline\n",
      "Relemelele\n",
      "\n",
      "\n"
     ]
    }
   ],
   "source": [
    "parameters = model(data, ix_to_char, char_to_ix)#with increase in iterations names starts to follow a trend \n",
    "                                                #and no longer they are random, they are learning a pattern \n",
    "                                                #from the baby names provided."
   ]
  },
  {
   "cell_type": "code",
   "execution_count": null,
   "metadata": {
    "collapsed": true
   },
   "outputs": [],
   "source": [
    "Bovelary,Relemelele sounds like we created new cute baby names!!"
   ]
  }
 ],
 "metadata": {
  "coursera": {
   "course_slug": "nlp-sequence-models",
   "graded_item_id": "1dYg0",
   "launcher_item_id": "MLhxP"
  },
  "kernelspec": {
   "display_name": "Python 3",
   "language": "python",
   "name": "python3"
  },
  "language_info": {
   "codemirror_mode": {
    "name": "ipython",
    "version": 3
   },
   "file_extension": ".py",
   "mimetype": "text/x-python",
   "name": "python",
   "nbconvert_exporter": "python",
   "pygments_lexer": "ipython3",
   "version": "3.6.2"
  }
 },
 "nbformat": 4,
 "nbformat_minor": 2
}
